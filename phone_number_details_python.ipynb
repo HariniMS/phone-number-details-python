{
  "nbformat": 4,
  "nbformat_minor": 0,
  "metadata": {
    "colab": {
      "name": "phone_number_details_python.ipynb",
      "provenance": [],
      "collapsed_sections": []
    },
    "kernelspec": {
      "name": "python3",
      "display_name": "Python 3"
    }
  },
  "cells": [
    {
      "cell_type": "markdown",
      "metadata": {
        "id": "B0dVaayrIcOU",
        "colab_type": "text"
      },
      "source": [
        "#Getting the phone number details using python"
      ]
    },
    {
      "cell_type": "code",
      "metadata": {
        "id": "i7Z9QlmWGcCs",
        "colab_type": "code",
        "colab": {
          "base_uri": "https://localhost:8080/",
          "height": 34
        },
        "outputId": "daf7de0b-e65a-431e-e7fb-884cf766aab0"
      },
      "source": [
        "#installing phonenumbers \n",
        "!pip install phonenumbers"
      ],
      "execution_count": 1,
      "outputs": [
        {
          "output_type": "stream",
          "text": [
            "Requirement already satisfied: phonenumbers in /usr/local/lib/python3.6/dist-packages (8.12.7)\n"
          ],
          "name": "stdout"
        }
      ]
    },
    {
      "cell_type": "code",
      "metadata": {
        "id": "9v9i7mUkHZG2",
        "colab_type": "code",
        "colab": {}
      },
      "source": [
        "#importing phonenumbers \n",
        "import phonenumbers"
      ],
      "execution_count": 2,
      "outputs": []
    },
    {
      "cell_type": "code",
      "metadata": {
        "id": "KfL2AhnDGfzG",
        "colab_type": "code",
        "colab": {}
      },
      "source": [
        "from phonenumbers import carrier #to know the service provider of that number"
      ],
      "execution_count": 3,
      "outputs": []
    },
    {
      "cell_type": "code",
      "metadata": {
        "id": "NN6Mzr7TGoi5",
        "colab_type": "code",
        "colab": {}
      },
      "source": [
        "from phonenumbers import geocoder #to know the specific location of that number"
      ],
      "execution_count": 4,
      "outputs": []
    },
    {
      "cell_type": "code",
      "metadata": {
        "id": "MNIo22YLGo9q",
        "colab_type": "code",
        "colab": {}
      },
      "source": [
        "#parse the phone number\n",
        "phone_number = phonenumbers.parse(\"+919916639858\") #country code is required"
      ],
      "execution_count": 5,
      "outputs": []
    },
    {
      "cell_type": "code",
      "metadata": {
        "id": "VD02c2v1HMFk",
        "colab_type": "code",
        "colab": {
          "base_uri": "https://localhost:8080/",
          "height": 50
        },
        "outputId": "da8997fd-04f4-4246-d6ff-e41977017054"
      },
      "source": [
        "#Print Details\n",
        "\n",
        "\n",
        "#printing service provider name\n",
        "print(carrier.name_for_number(phone_number, \"en\"))\n",
        "\n",
        "\n",
        "#print country name\n",
        "print(geocoder.description_for_number(phone_number, \"en\"))"
      ],
      "execution_count": 6,
      "outputs": [
        {
          "output_type": "stream",
          "text": [
            "Vodafone\n",
            "India\n"
          ],
          "name": "stdout"
        }
      ]
    },
    {
      "cell_type": "markdown",
      "metadata": {
        "id": "fS3b4t9Mayaq",
        "colab_type": "text"
      },
      "source": [
        "Now we can see that \n",
        "\n",
        "for this Phone number **+919916639858**, \n",
        "\n",
        "       vodafone is the service provider\n",
        "\n",
        "       and India is the location of that number"
      ]
    }
  ]
}